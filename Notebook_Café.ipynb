{
 "cells": [
  {
   "cell_type": "markdown",
   "id": "5a042854",
   "metadata": {},
   "source": [
    "# **Café Campesino:** \n",
    "# *Análisis y Modelamiento de Puntajes de Taza*\n",
    "\n",
    "Este notebook explora, limpia y modela datos de control de calidad y puntajes de taza de Café Campesino, con el objetivo de identificar patrones y variables relevantes en la calidad del producto con los cuales pueda desarrollarse un modelo predictivo para la calificación de taza."
   ]
  },
  {
   "cell_type": "markdown",
   "id": "fffcda2d",
   "metadata": {},
   "source": [
    "## Importe de librerías"
   ]
  },
  {
   "cell_type": "code",
   "execution_count": null,
   "id": "8bbe7296",
   "metadata": {},
   "outputs": [],
   "source": [
    "import pandas as pd\n",
    "import re\n",
    "\n",
    "# --- Modelado y explicabilidad ---\n",
    "from sklearn.model_selection import train_test_split, GridSearchCV\n",
    "from sklearn.preprocessing import StandardScaler, OneHotEncoder\n",
    "from sklearn.compose import ColumnTransformer\n",
    "from sklearn.pipeline import Pipeline\n",
    "from sklearn.metrics import root_mean_squared_error, mean_absolute_error, r2_score\n",
    "from sklearn.linear_model import LinearRegression\n",
    "from sklearn.tree import DecisionTreeRegressor\n",
    "from sklearn.ensemble import RandomForestRegressor\n",
    "import xgboost as xgb\n",
    "import shap\n",
    "import matplotlib.pyplot as plt"
   ]
  },
  {
   "cell_type": "code",
   "execution_count": 269,
   "id": "c6075463",
   "metadata": {},
   "outputs": [],
   "source": [
    "pd.set_option('display.max_columns', None)  # Mostrar todas las columnas"
   ]
  },
  {
   "cell_type": "markdown",
   "id": "d4c08621",
   "metadata": {},
   "source": [
    "# Análisis exploratorio de datos\n",
    "En esta sección se realiza un análisis exploratorio de los datos recolectados durante el proceso de control de calidad del café, abarcando tanto la etapa de trillado como la de tostión. El objetivo principal es comprender la estructura, calidad y características principales de los datos, así como identificar patrones, tendencias y posibles inconsistencias que puedan influir en el modelamiento posterior.\n",
    "\n",
    "Hemos de notar que para este ejercicio contamos con datos de trillado, tostión y despachos. Entendiendo que el proceso logístico no interviene en la calidad del café, pues es posterior a su evaluación, entonces no se tendrá en cuenta.\n",
    "\n",
    "**Contexto:**  \n",
    "El análisis se centra en variables clave del proceso productivo del café, tales como la humedad del grano, la merma durante la tostión, el tamaño de malla, la denominación de origen, la variedad y el puntaje de calidad. Estos datos provienen de registros sistematizados en formatos de control de calidad y permiten caracterizar los lotes procesados en diferentes etapas.\n",
    "\n",
    "**Definiciones de conceptos clave:**  \n",
    "- **Humedad:** Porcentaje de agua presente en el grano de café, medido antes y después del proceso de trillado. Es un indicador fundamental para la conservación y calidad del producto.  \n",
    "- **Merma:** Diferencia porcentual entre el peso del café en verde y el peso después del tostado. Refleja la pérdida de masa debida a la evaporación y otros factores durante la tostión.  \n",
    "- **Mallas:** Tamaño de los granos de café, determinado mediante tamices estandarizados. Se expresa generalmente en fracciones o números que indican el diámetro del grano.  \n",
    "- **Denominación:** Código o identificador que agrupa los lotes según su origen geográfico o características particulares.  \n",
    "- **Variedad:** Tipo genético del café procesado (por ejemplo, Caturra, Colombia, Gesha, etc.), relevante para la trazabilidad y el perfil de taza.  \n",
    "- **Puntaje:** Calificación sensorial asignada al café tras una cata, que resume atributos de calidad como aroma, sabor, acidez y cuerpo.\n",
    "\n",
    "A lo largo de esta sección se documentan los pasos de limpieza, transformación y resumen de los datos, sentando las bases para el análisis estadístico y el modelamiento predictivo posterior."
   ]
  },
  {
   "cell_type": "code",
   "execution_count": 270,
   "id": "27729e33",
   "metadata": {},
   "outputs": [],
   "source": [
    "#Función para leer un archivo Excel y concatenar datos de varias hojas\n",
    "def read_and_concat_data(path:str, sheet_names:list, columns:list, skiprows:int=5):\n",
    "    df = pd.DataFrame()\n",
    "    \n",
    "    for sheet in sheet_names:\n",
    "        df_temp = pd.read_excel(path, sheet_name=sheet, skiprows=skiprows)\n",
    "        df_temp.columns = columns  # Asignar nombres de columnas\n",
    "        df = pd.concat([df, df_temp], ignore_index=True)\n",
    "\n",
    "    return df\n"
   ]
  },
  {
   "cell_type": "markdown",
   "id": "8575d58c",
   "metadata": {},
   "source": [
    "## Lectura de datos de trillado"
   ]
  },
  {
   "cell_type": "code",
   "execution_count": 271,
   "id": "2a5c73fd",
   "metadata": {},
   "outputs": [
    {
     "data": {
      "text/html": [
       "<div>\n",
       "<style scoped>\n",
       "    .dataframe tbody tr th:only-of-type {\n",
       "        vertical-align: middle;\n",
       "    }\n",
       "\n",
       "    .dataframe tbody tr th {\n",
       "        vertical-align: top;\n",
       "    }\n",
       "\n",
       "    .dataframe thead th {\n",
       "        text-align: right;\n",
       "    }\n",
       "</style>\n",
       "<table border=\"1\" class=\"dataframe\">\n",
       "  <thead>\n",
       "    <tr style=\"text-align: right;\">\n",
       "      <th></th>\n",
       "      <th>FECHA</th>\n",
       "      <th>LOTE</th>\n",
       "      <th>DENOMINACION</th>\n",
       "      <th>CANTIDAD</th>\n",
       "      <th>HUMEDAD</th>\n",
       "      <th>HUMEDAD_C_NC</th>\n",
       "      <th>MALLAS</th>\n",
       "      <th>MALLAS_C_NC</th>\n",
       "      <th>VERIFICACION_FISICA_CAFE_TOSTADO</th>\n",
       "      <th>NOTAS</th>\n",
       "      <th>PUNTAJE</th>\n",
       "      <th>PUNTAJE_C_NC</th>\n",
       "      <th>LIBERACION_LOTE</th>\n",
       "      <th>RESPONSABLE</th>\n",
       "    </tr>\n",
       "  </thead>\n",
       "  <tbody>\n",
       "    <tr>\n",
       "      <th>0</th>\n",
       "      <td>NaN</td>\n",
       "      <td>NaN</td>\n",
       "      <td>NaN</td>\n",
       "      <td>NaN</td>\n",
       "      <td>NaN</td>\n",
       "      <td>NaN</td>\n",
       "      <td>NaN</td>\n",
       "      <td>NaN</td>\n",
       "      <td>NaN</td>\n",
       "      <td>NaN</td>\n",
       "      <td>NaN</td>\n",
       "      <td>NaN</td>\n",
       "      <td>NaN</td>\n",
       "      <td>NaN</td>\n",
       "    </tr>\n",
       "    <tr>\n",
       "      <th>1</th>\n",
       "      <td>NaN</td>\n",
       "      <td>NaN</td>\n",
       "      <td>NaN</td>\n",
       "      <td>NaN</td>\n",
       "      <td>%</td>\n",
       "      <td>C/NC</td>\n",
       "      <td>#</td>\n",
       "      <td>C/NC</td>\n",
       "      <td>C/NC</td>\n",
       "      <td>NaN</td>\n",
       "      <td>N°</td>\n",
       "      <td>C/NC</td>\n",
       "      <td>SI/NO</td>\n",
       "      <td>NaN</td>\n",
       "    </tr>\n",
       "    <tr>\n",
       "      <th>2</th>\n",
       "      <td>19-07-22</td>\n",
       "      <td>01-190722</td>\n",
       "      <td>Madre Laura</td>\n",
       "      <td>765.0</td>\n",
       "      <td>10.9</td>\n",
       "      <td>C</td>\n",
       "      <td>14</td>\n",
       "      <td>C</td>\n",
       "      <td>C</td>\n",
       "      <td>Chocolate negro, toque frutal, cuerpo medio, a...</td>\n",
       "      <td>84</td>\n",
       "      <td>C</td>\n",
       "      <td>Si</td>\n",
       "      <td>LFQ</td>\n",
       "    </tr>\n",
       "  </tbody>\n",
       "</table>\n",
       "</div>"
      ],
      "text/plain": [
       "      FECHA       LOTE  DENOMINACION  CANTIDAD HUMEDAD HUMEDAD_C_NC MALLAS  \\\n",
       "0       NaN        NaN           NaN       NaN     NaN          NaN    NaN   \n",
       "1       NaN        NaN           NaN       NaN       %         C/NC      #   \n",
       "2  19-07-22  01-190722  Madre Laura      765.0    10.9           C      14   \n",
       "\n",
       "  MALLAS_C_NC VERIFICACION_FISICA_CAFE_TOSTADO  \\\n",
       "0         NaN                              NaN   \n",
       "1        C/NC                             C/NC   \n",
       "2          C                                 C   \n",
       "\n",
       "                                               NOTAS PUNTAJE PUNTAJE_C_NC  \\\n",
       "0                                                NaN     NaN          NaN   \n",
       "1                                                NaN      N°         C/NC   \n",
       "2  Chocolate negro, toque frutal, cuerpo medio, a...      84           C    \n",
       "\n",
       "  LIBERACION_LOTE RESPONSABLE  \n",
       "0             NaN         NaN  \n",
       "1           SI/NO         NaN  \n",
       "2             Si          LFQ  "
      ]
     },
     "execution_count": 271,
     "metadata": {},
     "output_type": "execute_result"
    }
   ],
   "source": [
    "#Carga del archivo 'Formato de Control de Calidad Café de Trillado.xlsx'\n",
    "\n",
    "file_path_cc = 'data/Formato de Control de Calidad Café de Trillado.xlsx'\n",
    "\n",
    "sheet_list_cc = ['CONTROL CALIDAD CAFE TRILLADO J','Sheet2']\n",
    "\n",
    "columns = ['FECHA', 'LOTE', 'DENOMINACION', 'CANTIDAD', 'HUMEDAD', 'HUMEDAD_C_NC', 'MALLAS', 'MALLAS_C_NC',\n",
    "       'VERIFICACION_FISICA_CAFE_TOSTADO', 'NOTAS', 'PUNTAJE',\n",
    "       'PUNTAJE_C_NC', 'LIBERACION_LOTE', 'RESPONSABLE']\n",
    "\n",
    "df_cc = read_and_concat_data(file_path_cc, sheet_list_cc, columns)\n",
    "\n",
    "df_cc.head(3)"
   ]
  },
  {
   "cell_type": "code",
   "execution_count": 272,
   "id": "af78c75e",
   "metadata": {},
   "outputs": [],
   "source": [
    "\n",
    "#Eliminar filas con valores nulos en la columna 'DENOMINACION_MARCA' y 'PUNTAJE'\n",
    "df_cc = df_cc.dropna(subset=['DENOMINACION'])\n",
    "df_cc = df_cc.dropna(subset=['PUNTAJE'])"
   ]
  },
  {
   "cell_type": "markdown",
   "id": "80ec606e",
   "metadata": {},
   "source": [
    "## Limpieza en variables numéricas"
   ]
  },
  {
   "cell_type": "code",
   "execution_count": 273,
   "id": "8387c2cb",
   "metadata": {},
   "outputs": [
    {
     "data": {
      "text/plain": [
       "count    106.000000\n",
       "mean      10.557547\n",
       "std        0.234195\n",
       "min       10.000000\n",
       "25%       10.400000\n",
       "50%       10.500000\n",
       "75%       10.800000\n",
       "max       11.300000\n",
       "Name: HUMEDAD, dtype: float64"
      ]
     },
     "execution_count": 273,
     "metadata": {},
     "output_type": "execute_result"
    }
   ],
   "source": [
    "df_cc['HUMEDAD'] = df_cc['HUMEDAD'].replace(',', '.', regex=True)  # Reemplazar comas por puntos\n",
    "df_cc['HUMEDAD'] = df_cc['HUMEDAD'].astype(float)\n",
    "df_cc['HUMEDAD'].describe()"
   ]
  },
  {
   "cell_type": "code",
   "execution_count": 274,
   "id": "0d6a991d",
   "metadata": {},
   "outputs": [
    {
     "data": {
      "text/plain": [
       "count    106.000000\n",
       "mean      85.089623\n",
       "std        1.435597\n",
       "min       84.000000\n",
       "25%       84.000000\n",
       "50%       84.500000\n",
       "75%       86.000000\n",
       "max       89.000000\n",
       "Name: PUNTAJE, dtype: float64"
      ]
     },
     "execution_count": 274,
     "metadata": {},
     "output_type": "execute_result"
    }
   ],
   "source": [
    "df_cc['PUNTAJE'] = df_cc['PUNTAJE'].replace(',', '.', regex=True).replace(' ','')  # Reemplazar comas por puntos\n",
    "df_cc['PUNTAJE'] = df_cc['PUNTAJE'].astype(float)\n",
    "df_cc['PUNTAJE'].describe()"
   ]
  },
  {
   "cell_type": "markdown",
   "id": "fe60e0b7",
   "metadata": {},
   "source": [
    "## Codificación de la denominación"
   ]
  },
  {
   "cell_type": "code",
   "execution_count": 290,
   "id": "bc3ddee9",
   "metadata": {},
   "outputs": [],
   "source": [
    "# Transformamos la columna 'DENOMINACION' a su equivalente numérico\n",
    "# Tomamos los primeros 2 caracteres del lote\n",
    "df_cc['DENOMINACION'] = df_cc['LOTE'].str[:2]"
   ]
  },
  {
   "cell_type": "markdown",
   "id": "f944e833",
   "metadata": {},
   "source": [
    "## Limpieza Lote"
   ]
  },
  {
   "cell_type": "code",
   "execution_count": 277,
   "id": "41fa19b9",
   "metadata": {},
   "outputs": [
    {
     "data": {
      "text/plain": [
       "5    07-19-07-22\n",
       "Name: LOTE, dtype: object"
      ]
     },
     "execution_count": 277,
     "metadata": {},
     "output_type": "execute_result"
    }
   ],
   "source": [
    "## Evaluar si el patron de origen es correcto.\n",
    "## Se listan los lotes que cumplen con el patron de origen\n",
    "df_cc['LOTE'][~df_cc['LOTE'].str.match(patron, na=False)]"
   ]
  },
  {
   "cell_type": "code",
   "execution_count": 275,
   "id": "8fbc7af0",
   "metadata": {},
   "outputs": [],
   "source": [
    "## Trim del campo 'LOTE'\n",
    "def trim(value):\n",
    "    if isinstance(value, str):\n",
    "        return value.strip()\n",
    "    return value\n",
    "\n",
    "df_cc['LOTE'] = df_cc['LOTE'].apply(trim)"
   ]
  },
  {
   "cell_type": "code",
   "execution_count": 276,
   "id": "70ada205",
   "metadata": {},
   "outputs": [],
   "source": [
    "patron = r'^\\d{2}-\\d{6}$'"
   ]
  },
  {
   "cell_type": "code",
   "execution_count": 278,
   "id": "5c5f8303",
   "metadata": {},
   "outputs": [],
   "source": [
    "def transform_lote(lote):\n",
    "\n",
    "    if re.match(patron, lote):\n",
    "         return lote\n",
    "    else:\n",
    "        digits = lote.replace('-','')\n",
    "        return f'{digits[:2]}-{digits[2:8]}'"
   ]
  },
  {
   "cell_type": "code",
   "execution_count": 279,
   "id": "916a1a25",
   "metadata": {},
   "outputs": [],
   "source": [
    "df_cc['LOTE'] = df_cc['LOTE'].apply(transform_lote)"
   ]
  },
  {
   "cell_type": "code",
   "execution_count": null,
   "id": "7a972107",
   "metadata": {},
   "outputs": [
    {
     "data": {
      "text/plain": [
       "Series([], Name: LOTE, dtype: object)"
      ]
     },
     "execution_count": 280,
     "metadata": {},
     "output_type": "execute_result"
    }
   ],
   "source": [
    "# Verificar nuevamente lotes que no cumplen con el patron de origen\n",
    "df_cc['LOTE'][~df_cc['LOTE'].str.match(patron, na=False)]"
   ]
  },
  {
   "cell_type": "markdown",
   "id": "1bbee75c",
   "metadata": {},
   "source": [
    "## Limpieza Fecha"
   ]
  },
  {
   "cell_type": "code",
   "execution_count": 281,
   "id": "04d40eda",
   "metadata": {},
   "outputs": [
    {
     "name": "stderr",
     "output_type": "stream",
     "text": [
      "C:\\Users\\johanmum\\AppData\\Local\\Temp\\ipykernel_29628\\1632281365.py:2: UserWarning: Could not infer format, so each element will be parsed individually, falling back to `dateutil`. To ensure parsing is consistent and as-expected, please specify a format.\n",
      "  df_cc['FECHA'][pd.to_datetime(df_cc['FECHA'], errors='coerce').isna()]\n"
     ]
    },
    {
     "data": {
      "text/plain": [
       "125      10-Ene-2024\n",
       "126    02-Abril-2024\n",
       "Name: FECHA, dtype: object"
      ]
     },
     "execution_count": 281,
     "metadata": {},
     "output_type": "execute_result"
    }
   ],
   "source": [
    "# Filtrar campo Fecha con fechas inválidas\n",
    "df_cc['FECHA'][pd.to_datetime(df_cc['FECHA'], errors='coerce').isna()]"
   ]
  },
  {
   "cell_type": "code",
   "execution_count": 282,
   "id": "90875ed9",
   "metadata": {},
   "outputs": [
    {
     "name": "stderr",
     "output_type": "stream",
     "text": [
      "C:\\Users\\johanmum\\AppData\\Local\\Temp\\ipykernel_29628\\669277603.py:22: UserWarning: Could not infer format, so each element will be parsed individually, falling back to `dateutil`. To ensure parsing is consistent and as-expected, please specify a format.\n",
      "  df_cc['FECHA'] = pd.to_datetime(df_cc['FECHA'], errors='coerce')\n"
     ]
    }
   ],
   "source": [
    "#Reemplazamos meses en string por números\n",
    "\n",
    "df_cc['FECHA'] = df_cc['FECHA'].astype(str)  # Nos aseguramos de que la columna sea de tipo string\n",
    "\n",
    "# Diccionario de mapeo de meses\n",
    "months_mapping = {'Enero': 1, 'Febrero': 2, \n",
    "    'Marzo': 3, 'Abril': 4, 'Mayo': 5, 'Junio': 6, \n",
    "    'Julio': 7, 'Agosto': 8,'Septiembre': 9, \n",
    "    'Octubre': 10, 'Noviembre': 11, 'Diciembre': 12,\n",
    "    'Ene': 1, 'Feb': 2, 'Mar': 3, 'Abr': 4,\n",
    "    'May': 5, 'Jun': 6, 'Jul': 7,\n",
    "    'Ago': 8, 'Sep': 9, 'Oct': 10,\n",
    "    'Nov': 11, 'Dic': 12\n",
    "}\n",
    "\n",
    "# Reemplazamos los nombres de los meses en la columna 'FECHA'\n",
    "for nombre_mes in months_mapping:\n",
    "    df_cc['FECHA'] = df_cc['FECHA'].str.replace(\n",
    "        nombre_mes, str(months_mapping[nombre_mes]), regex=False)\n",
    "\n",
    "# Fecha a formato datetime\n",
    "df_cc['FECHA'] = pd.to_datetime(df_cc['FECHA'], errors='coerce')\n"
   ]
  },
  {
   "cell_type": "code",
   "execution_count": 283,
   "id": "954edc7c",
   "metadata": {},
   "outputs": [
    {
     "data": {
      "text/plain": [
       "Series([], Name: FECHA, dtype: datetime64[ns])"
      ]
     },
     "execution_count": 283,
     "metadata": {},
     "output_type": "execute_result"
    }
   ],
   "source": [
    "# Filtrar campo Fecha con fechas inválidas\n",
    "df_cc['FECHA'][pd.to_datetime(df_cc['FECHA'], errors='coerce').isna()]"
   ]
  },
  {
   "cell_type": "markdown",
   "id": "5f336bce",
   "metadata": {},
   "source": [
    "### Fecha auxiliar (desde lote)\n",
    "Dado que la estructura de la denominación del lote cumple con el formato '', se construye una fecha auxiliar para hacer correcciones sobre la fecha de trillado dada la ocasión en que por cuestiones de formato haya quedado como una fecha anterior a la del lote en cuestión.\n",
    "\n",
    "Además, se busca hacer una comparativa entre la fecha del lote y la fecha de trillado para evaluar la significancia de la diferencia en el puntaje de taza obtenido, para intentar estimar la entrada de dicha diferencia como una variable numérica en el modelo."
   ]
  },
  {
   "cell_type": "code",
   "execution_count": 284,
   "id": "e675c0ab",
   "metadata": {},
   "outputs": [],
   "source": [
    "## Fecha desde los último 6 caracteres del lote\n",
    "def extract_date_from_lote(lote):\n",
    "    if len(lote) >= 8:\n",
    "        return pd.to_datetime(lote[-6:], format='%d%m%y', errors='coerce')\n",
    "    return pd.NaT"
   ]
  },
  {
   "cell_type": "code",
   "execution_count": 285,
   "id": "4ebffe0f",
   "metadata": {},
   "outputs": [],
   "source": [
    "df_cc['FECHA_aux'] = df_cc['LOTE'].apply(extract_date_from_lote)"
   ]
  },
  {
   "cell_type": "code",
   "execution_count": 286,
   "id": "ad2779e4",
   "metadata": {},
   "outputs": [
    {
     "data": {
      "text/plain": [
       "7     2022-02-11\n",
       "9     2022-04-12\n",
       "10    2022-04-12\n",
       "11    2022-04-12\n",
       "31    2023-02-06\n",
       "33    2023-04-07\n",
       "34    2023-04-07\n",
       "36    2023-02-08\n",
       "39    2023-08-09\n",
       "40    2023-08-09\n",
       "42    2023-08-09\n",
       "43    2023-04-10\n",
       "44    2023-04-10\n",
       "53    2023-11-12\n",
       "54    2023-11-12\n",
       "55    2023-11-12\n",
       "74    2024-03-07\n",
       "102   2022-03-11\n",
       "103   2022-10-11\n",
       "108   2002-12-16\n",
       "117   2023-01-03\n",
       "126   2024-02-04\n",
       "Name: FECHA, dtype: datetime64[ns]"
      ]
     },
     "execution_count": 286,
     "metadata": {},
     "output_type": "execute_result"
    }
   ],
   "source": [
    "# identificar las fechas menores que la fecha_aux\n",
    "df_cc['FECHA'][df_cc['FECHA'] < df_cc['FECHA_aux']]"
   ]
  },
  {
   "cell_type": "code",
   "execution_count": 287,
   "id": "03a09ce9",
   "metadata": {},
   "outputs": [],
   "source": [
    "# Se comparar fecha con fecha_aux. Si fecha es menor que fecha_aux,\n",
    "# entonces se invierte el día y el mes en la fecha original \n",
    "# y se toma el año de fecha_aux\n",
    "\n",
    "df_cc['FECHA'] = df_cc.apply(\n",
    "    lambda row: pd.to_datetime(\n",
    "        f\"{row['FECHA_aux'].year}-{row['FECHA_aux'].month}-{row['FECHA_aux'].day}\"\n",
    "    ) if (row['FECHA'] < row['FECHA_aux'] or (row['FECHA'] - row['FECHA_aux']).days > 31) else row['FECHA'], axis=1\n",
    ")"
   ]
  },
  {
   "cell_type": "code",
   "execution_count": 288,
   "id": "d3eab796",
   "metadata": {},
   "outputs": [
    {
     "data": {
      "text/plain": [
       "Series([], Name: FECHA, dtype: datetime64[ns])"
      ]
     },
     "execution_count": 288,
     "metadata": {},
     "output_type": "execute_result"
    }
   ],
   "source": [
    "# identificar las fechas menores que la fecha_aux\n",
    "df_cc['FECHA'][df_cc['FECHA'] < df_cc['FECHA_aux']]"
   ]
  },
  {
   "cell_type": "code",
   "execution_count": 289,
   "id": "4e614999",
   "metadata": {},
   "outputs": [
    {
     "data": {
      "text/plain": [
       "5      8\n",
       "6      2\n",
       "8      1\n",
       "12     1\n",
       "13     4\n",
       "21     1\n",
       "22    31\n",
       "24     2\n",
       "59    31\n",
       "dtype: int64"
      ]
     },
     "execution_count": 289,
     "metadata": {},
     "output_type": "execute_result"
    }
   ],
   "source": [
    "# diferencia entre fecha y fecha_aux\n",
    "(df_cc['FECHA'] - df_cc['FECHA_aux']).dt.days[((df_cc['FECHA'] - df_cc['FECHA_aux']).dt.days > 0)]"
   ]
  },
  {
   "cell_type": "markdown",
   "id": "1efb4285",
   "metadata": {},
   "source": [
    "Al final del proceso de validación de las diferencias entre fecha de lote y fecha de trillado, se decide no tomar la diferencia como una variable dentro del proceso de modelado dados los pocos registros con diferencia y diferencias poco significativas. Se encuentran registros con 31 días de diferencia, pero se asumen como errores en digitación del mes en la fecha, que dándose una corrección en ese sentido, dejaría la diferencia de fechas en cero (0)."
   ]
  },
  {
   "cell_type": "markdown",
   "id": "da5e5f91",
   "metadata": {},
   "source": [
    "## Set de trillado depurado"
   ]
  },
  {
   "cell_type": "code",
   "execution_count": 291,
   "id": "670158e3",
   "metadata": {},
   "outputs": [
    {
     "data": {
      "text/html": [
       "<div>\n",
       "<style scoped>\n",
       "    .dataframe tbody tr th:only-of-type {\n",
       "        vertical-align: middle;\n",
       "    }\n",
       "\n",
       "    .dataframe tbody tr th {\n",
       "        vertical-align: top;\n",
       "    }\n",
       "\n",
       "    .dataframe thead th {\n",
       "        text-align: right;\n",
       "    }\n",
       "</style>\n",
       "<table border=\"1\" class=\"dataframe\">\n",
       "  <thead>\n",
       "    <tr style=\"text-align: right;\">\n",
       "      <th></th>\n",
       "      <th>LOTE</th>\n",
       "      <th>DENOMINACION</th>\n",
       "      <th>HUMEDAD</th>\n",
       "      <th>MALLAS</th>\n",
       "      <th>PUNTAJE</th>\n",
       "    </tr>\n",
       "  </thead>\n",
       "  <tbody>\n",
       "    <tr>\n",
       "      <th>0</th>\n",
       "      <td>01-190722</td>\n",
       "      <td>01</td>\n",
       "      <td>10.9</td>\n",
       "      <td>14</td>\n",
       "      <td>84.0</td>\n",
       "    </tr>\n",
       "    <tr>\n",
       "      <th>1</th>\n",
       "      <td>09-190722</td>\n",
       "      <td>09</td>\n",
       "      <td>10.2</td>\n",
       "      <td>14</td>\n",
       "      <td>85.0</td>\n",
       "    </tr>\n",
       "    <tr>\n",
       "      <th>2</th>\n",
       "      <td>10-190722</td>\n",
       "      <td>10</td>\n",
       "      <td>10.7</td>\n",
       "      <td>14</td>\n",
       "      <td>84.5</td>\n",
       "    </tr>\n",
       "    <tr>\n",
       "      <th>3</th>\n",
       "      <td>07-190722</td>\n",
       "      <td>07</td>\n",
       "      <td>10.5</td>\n",
       "      <td>14</td>\n",
       "      <td>84.5</td>\n",
       "    </tr>\n",
       "    <tr>\n",
       "      <th>4</th>\n",
       "      <td>01-291022</td>\n",
       "      <td>01</td>\n",
       "      <td>10.7</td>\n",
       "      <td>14</td>\n",
       "      <td>84.0</td>\n",
       "    </tr>\n",
       "  </tbody>\n",
       "</table>\n",
       "</div>"
      ],
      "text/plain": [
       "        LOTE DENOMINACION  HUMEDAD MALLAS  PUNTAJE\n",
       "0  01-190722           01     10.9     14     84.0\n",
       "1  09-190722           09     10.2     14     85.0\n",
       "2  10-190722           10     10.7     14     84.5\n",
       "3  07-190722           07     10.5     14     84.5\n",
       "4  01-291022           01     10.7     14     84.0"
      ]
     },
     "execution_count": 291,
     "metadata": {},
     "output_type": "execute_result"
    }
   ],
   "source": [
    "#Eliminar columnas redundantes o que no suman información relevante\n",
    "columns_to_keep = ['LOTE', 'DENOMINACION', 'HUMEDAD', 'MALLAS', 'PUNTAJE']\n",
    "df_cc = df_cc[columns_to_keep]\n",
    "\n",
    "#Eliminar duplicados\n",
    "df_cc = df_cc.drop_duplicates().reset_index(drop=True)\n",
    "\n",
    "df_cc.head(5)"
   ]
  },
  {
   "cell_type": "markdown",
   "id": "b15fb29f",
   "metadata": {},
   "source": [
    "## Lectura y limpieza de datos de tostión"
   ]
  },
  {
   "cell_type": "code",
   "execution_count": 292,
   "id": "e2a52c6d",
   "metadata": {},
   "outputs": [
    {
     "data": {
      "text/html": [
       "<div>\n",
       "<style scoped>\n",
       "    .dataframe tbody tr th:only-of-type {\n",
       "        vertical-align: middle;\n",
       "    }\n",
       "\n",
       "    .dataframe tbody tr th {\n",
       "        vertical-align: top;\n",
       "    }\n",
       "\n",
       "    .dataframe thead th {\n",
       "        text-align: right;\n",
       "    }\n",
       "</style>\n",
       "<table border=\"1\" class=\"dataframe\">\n",
       "  <thead>\n",
       "    <tr style=\"text-align: right;\">\n",
       "      <th></th>\n",
       "      <th>FECHA</th>\n",
       "      <th>LOTE</th>\n",
       "      <th>ORIGEN</th>\n",
       "      <th>VARIEDAD</th>\n",
       "      <th>PROCESO</th>\n",
       "      <th>BENEFICIO</th>\n",
       "      <th>PESO_EN_VERDE</th>\n",
       "      <th>MERMA</th>\n",
       "      <th>PESO_EN_TOSTADO</th>\n",
       "      <th>PERFIL</th>\n",
       "      <th>TEMPERATURA_INI_FIN</th>\n",
       "      <th>TIEMPO_TUESTE</th>\n",
       "      <th>OBSERVACIONES</th>\n",
       "      <th>TOSTADOR</th>\n",
       "    </tr>\n",
       "  </thead>\n",
       "  <tbody>\n",
       "    <tr>\n",
       "      <th>0</th>\n",
       "      <td>22-07-22</td>\n",
       "      <td>01-190722</td>\n",
       "      <td>Jerico</td>\n",
       "      <td>Dos mil</td>\n",
       "      <td>Tradicional</td>\n",
       "      <td>Lavado</td>\n",
       "      <td>9.0</td>\n",
       "      <td>15.000000</td>\n",
       "      <td>7.65</td>\n",
       "      <td>Filtrado</td>\n",
       "      <td>175°/191°</td>\n",
       "      <td>08:01:00</td>\n",
       "      <td>NaN</td>\n",
       "      <td>LFQ</td>\n",
       "    </tr>\n",
       "    <tr>\n",
       "      <th>1</th>\n",
       "      <td>25-07-22</td>\n",
       "      <td>01-190722</td>\n",
       "      <td>Jerico</td>\n",
       "      <td>Dos mil</td>\n",
       "      <td>Tradicional</td>\n",
       "      <td>Lavado</td>\n",
       "      <td>3.0</td>\n",
       "      <td>16.666667</td>\n",
       "      <td>2.50</td>\n",
       "      <td>Espressso</td>\n",
       "      <td>175°/195°</td>\n",
       "      <td>08:42:00</td>\n",
       "      <td>NaN</td>\n",
       "      <td>LFQ</td>\n",
       "    </tr>\n",
       "    <tr>\n",
       "      <th>2</th>\n",
       "      <td>25-07-22</td>\n",
       "      <td>01-190722</td>\n",
       "      <td>Jerico</td>\n",
       "      <td>Dos mil</td>\n",
       "      <td>Tradicional</td>\n",
       "      <td>Lavado</td>\n",
       "      <td>9.0</td>\n",
       "      <td>16.444444</td>\n",
       "      <td>7.52</td>\n",
       "      <td>Filtrado</td>\n",
       "      <td>175°/190°</td>\n",
       "      <td>07:58:00</td>\n",
       "      <td>NaN</td>\n",
       "      <td>LFQ</td>\n",
       "    </tr>\n",
       "  </tbody>\n",
       "</table>\n",
       "</div>"
      ],
      "text/plain": [
       "      FECHA       LOTE  ORIGEN  VARIEDAD      PROCESO BENEFICIO  \\\n",
       "0  22-07-22  01-190722  Jerico  Dos mil   Tradicional   Lavado    \n",
       "1  25-07-22  01-190722  Jerico  Dos mil   Tradicional   Lavado    \n",
       "2  25-07-22  01-190722  Jerico  Dos mil   Tradicional   Lavado    \n",
       "\n",
       "   PESO_EN_VERDE      MERMA  PESO_EN_TOSTADO     PERFIL TEMPERATURA_INI_FIN  \\\n",
       "0            9.0  15.000000             7.65  Filtrado            175°/191°   \n",
       "1            3.0  16.666667             2.50  Espressso           175°/195°   \n",
       "2            9.0  16.444444             7.52  Filtrado            175°/190°   \n",
       "\n",
       "  TIEMPO_TUESTE OBSERVACIONES TOSTADOR  \n",
       "0      08:01:00           NaN      LFQ  \n",
       "1      08:42:00           NaN      LFQ  \n",
       "2      07:58:00           NaN      LFQ  "
      ]
     },
     "execution_count": 292,
     "metadata": {},
     "output_type": "execute_result"
    }
   ],
   "source": [
    "#Carga del archivo 'Formato de Control de Calidad Café de Trillado.xlsx'\n",
    "\n",
    "file_path_tt = 'data/Formato de Tostión.xlsx'\n",
    "\n",
    "sheet_list_tt = ['TOSTIÓN JERICÓ L','TOSTIÓN JERICÓ']\n",
    "\n",
    "columns = ['FECHA', 'LOTE', 'ORIGEN', 'VARIEDAD', 'PROCESO', 'BENEFICIO', 'PESO_EN_VERDE', 'MERMA',\n",
    "       'PESO_EN_TOSTADO', 'PERFIL', 'TEMPERATURA_INI_FIN',\n",
    "       'TIEMPO_TUESTE', 'OBSERVACIONES', 'TOSTADOR']\n",
    "\n",
    "df_tt = read_and_concat_data(file_path_tt, sheet_list_tt, columns)\n",
    "\n",
    "df_tt.head(3)"
   ]
  },
  {
   "cell_type": "code",
   "execution_count": 293,
   "id": "57cdd188",
   "metadata": {},
   "outputs": [
    {
     "name": "stdout",
     "output_type": "stream",
     "text": [
      "<class 'pandas.core.frame.DataFrame'>\n",
      "RangeIndex: 529 entries, 0 to 528\n",
      "Data columns (total 14 columns):\n",
      " #   Column               Non-Null Count  Dtype  \n",
      "---  ------               --------------  -----  \n",
      " 0   FECHA                529 non-null    object \n",
      " 1   LOTE                 529 non-null    object \n",
      " 2   ORIGEN               529 non-null    object \n",
      " 3   VARIEDAD             529 non-null    object \n",
      " 4   PROCESO              529 non-null    object \n",
      " 5   BENEFICIO            529 non-null    object \n",
      " 6   PESO_EN_VERDE        529 non-null    float64\n",
      " 7   MERMA                529 non-null    float64\n",
      " 8   PESO_EN_TOSTADO      529 non-null    float64\n",
      " 9   PERFIL               529 non-null    object \n",
      " 10  TEMPERATURA_INI_FIN  529 non-null    object \n",
      " 11  TIEMPO_TUESTE        529 non-null    object \n",
      " 12  OBSERVACIONES        19 non-null     object \n",
      " 13  TOSTADOR             529 non-null    object \n",
      "dtypes: float64(3), object(11)\n",
      "memory usage: 58.0+ KB\n"
     ]
    }
   ],
   "source": [
    "df_tt.info()"
   ]
  },
  {
   "cell_type": "code",
   "execution_count": 294,
   "id": "c714c071",
   "metadata": {},
   "outputs": [],
   "source": [
    "# Creámos la columna 'DENOMINACION' a partir de los primeros 2 caracteres del lote\n",
    "df_tt['DENOMINACION'] = df_tt['LOTE'].str[:2]"
   ]
  },
  {
   "cell_type": "code",
   "execution_count": 295,
   "id": "12baf348",
   "metadata": {},
   "outputs": [],
   "source": [
    "# Aplicamos las funciones de trim y transform_lote a la columna 'LOTE'\n",
    "df_tt['LOTE'] = df_tt['LOTE'].apply(trim)\n",
    "df_tt['LOTE'] = df_tt['LOTE'].apply(transform_lote)"
   ]
  },
  {
   "cell_type": "code",
   "execution_count": 296,
   "id": "ae0e5873",
   "metadata": {},
   "outputs": [
    {
     "data": {
      "text/plain": [
       "array(['Dos mil ', 'Tabi ', 'Caturra', 'Gesha ', 'Colombia ',\n",
       "       'Wush Wush ', 'Pink Bourbon', 'Maragogipe ', 'Castillo',\n",
       "       'Caturra ', 'Bourbon Rojo ', 'Bourbon Sidra ', 'Red Bourbon ',\n",
       "       'Caturron '], dtype=object)"
      ]
     },
     "execution_count": 296,
     "metadata": {},
     "output_type": "execute_result"
    }
   ],
   "source": [
    "df_tt['VARIEDAD'].unique()"
   ]
  },
  {
   "cell_type": "code",
   "execution_count": 297,
   "id": "d90cde2c",
   "metadata": {},
   "outputs": [],
   "source": [
    "dic_variedad = {\n",
    "    'Dos mil': 'Dos mil', \n",
    "    'Tabi': 'Tabi', \n",
    "    'Caturra': 'Caturra', \n",
    "    'Gesha': 'Gesha', \n",
    "    'Colombia': 'Colombia', \n",
    "    'Wush Wush': 'Wush Wush',\n",
    "    'Pink Bourbon': 'Pink Bourbon', \n",
    "    'Maragogipe': 'Maragogipe', \n",
    "    'Castillo': 'Castillo', \n",
    "    'Bourbon Rojo': 'Bourbon Rojo',\n",
    "    'Bourbon Sidra': 'Bourbon Sidra', \n",
    "    'Red Bourbon': 'Bourbon Rojo', \n",
    "    'Caturron': 'Caturron',\n",
    "}\n",
    "\n",
    "df_tt['VARIEDAD'] = df_tt['VARIEDAD'].apply(trim).replace(dic_variedad)"
   ]
  },
  {
   "cell_type": "code",
   "execution_count": 298,
   "id": "acc1599b",
   "metadata": {},
   "outputs": [
    {
     "data": {
      "text/plain": [
       "array(['Jerico', 'Ciudad Bolivar', 'Herrera', 'Salento', 'Planadas',\n",
       "       'Herrra', 'Aipe', 'Chaparral', 'Rovira', 'San Antonio', 'Quimbaya',\n",
       "       'Rioblanco', 'Acevedo'], dtype=object)"
      ]
     },
     "execution_count": 298,
     "metadata": {},
     "output_type": "execute_result"
    }
   ],
   "source": [
    "df_tt['ORIGEN'].str.strip().unique()"
   ]
  },
  {
   "cell_type": "code",
   "execution_count": 299,
   "id": "dbf89ff1",
   "metadata": {},
   "outputs": [],
   "source": [
    "dic_origen = {'Jerico': 'Jerico', \n",
    "              'Ciudad Bolivar': 'Ciudad Bolivar', \n",
    "              'Herrera': 'Herrera', \n",
    "              'Salento': 'Salento', \n",
    "              'Planadas': 'Planadas',\n",
    "              'Herrra': 'Herrera', \n",
    "              'Aipe': 'Aipe', \n",
    "              'Chaparral': 'Chaparral', \n",
    "              'Rovira': 'Rovira', \n",
    "              'San Antonio': 'San Antonio', \n",
    "              'Quimbaya': 'Quimbaya',\n",
    "              'Rioblanco': 'Rioblanco', \n",
    "              'Acevedo': 'Acevedo',\n",
    "}\n",
    "\n",
    "df_tt['ORIGEN'] = df_tt['ORIGEN'].apply(trim).replace(dic_origen)"
   ]
  },
  {
   "cell_type": "code",
   "execution_count": 300,
   "id": "5e3d41ec",
   "metadata": {},
   "outputs": [
    {
     "data": {
      "text/html": [
       "<div>\n",
       "<style scoped>\n",
       "    .dataframe tbody tr th:only-of-type {\n",
       "        vertical-align: middle;\n",
       "    }\n",
       "\n",
       "    .dataframe tbody tr th {\n",
       "        vertical-align: top;\n",
       "    }\n",
       "\n",
       "    .dataframe thead th {\n",
       "        text-align: right;\n",
       "    }\n",
       "</style>\n",
       "<table border=\"1\" class=\"dataframe\">\n",
       "  <thead>\n",
       "    <tr style=\"text-align: right;\">\n",
       "      <th></th>\n",
       "      <th>FECHA</th>\n",
       "      <th>LOTE</th>\n",
       "      <th>ORIGEN</th>\n",
       "      <th>VARIEDAD</th>\n",
       "      <th>PROCESO</th>\n",
       "      <th>BENEFICIO</th>\n",
       "      <th>PESO_EN_VERDE</th>\n",
       "      <th>MERMA</th>\n",
       "      <th>PESO_EN_TOSTADO</th>\n",
       "      <th>PERFIL</th>\n",
       "      <th>TEMPERATURA_INI_FIN</th>\n",
       "      <th>TIEMPO_TUESTE</th>\n",
       "      <th>OBSERVACIONES</th>\n",
       "      <th>TOSTADOR</th>\n",
       "      <th>DENOMINACION</th>\n",
       "    </tr>\n",
       "  </thead>\n",
       "  <tbody>\n",
       "    <tr>\n",
       "      <th>0</th>\n",
       "      <td>22-07-22</td>\n",
       "      <td>01-190722</td>\n",
       "      <td>Jerico</td>\n",
       "      <td>Dos mil</td>\n",
       "      <td>Tradicional</td>\n",
       "      <td>Lavado</td>\n",
       "      <td>9.0</td>\n",
       "      <td>15.000000</td>\n",
       "      <td>7.65</td>\n",
       "      <td>Filtrado</td>\n",
       "      <td>175°/191°</td>\n",
       "      <td>08:01:00</td>\n",
       "      <td>NaN</td>\n",
       "      <td>LFQ</td>\n",
       "      <td>01</td>\n",
       "    </tr>\n",
       "    <tr>\n",
       "      <th>1</th>\n",
       "      <td>25-07-22</td>\n",
       "      <td>01-190722</td>\n",
       "      <td>Jerico</td>\n",
       "      <td>Dos mil</td>\n",
       "      <td>Tradicional</td>\n",
       "      <td>Lavado</td>\n",
       "      <td>3.0</td>\n",
       "      <td>16.666667</td>\n",
       "      <td>2.50</td>\n",
       "      <td>Espressso</td>\n",
       "      <td>175°/195°</td>\n",
       "      <td>08:42:00</td>\n",
       "      <td>NaN</td>\n",
       "      <td>LFQ</td>\n",
       "      <td>01</td>\n",
       "    </tr>\n",
       "    <tr>\n",
       "      <th>2</th>\n",
       "      <td>25-07-22</td>\n",
       "      <td>01-190722</td>\n",
       "      <td>Jerico</td>\n",
       "      <td>Dos mil</td>\n",
       "      <td>Tradicional</td>\n",
       "      <td>Lavado</td>\n",
       "      <td>9.0</td>\n",
       "      <td>16.444444</td>\n",
       "      <td>7.52</td>\n",
       "      <td>Filtrado</td>\n",
       "      <td>175°/190°</td>\n",
       "      <td>07:58:00</td>\n",
       "      <td>NaN</td>\n",
       "      <td>LFQ</td>\n",
       "      <td>01</td>\n",
       "    </tr>\n",
       "  </tbody>\n",
       "</table>\n",
       "</div>"
      ],
      "text/plain": [
       "      FECHA       LOTE  ORIGEN VARIEDAD      PROCESO BENEFICIO  PESO_EN_VERDE  \\\n",
       "0  22-07-22  01-190722  Jerico  Dos mil  Tradicional   Lavado             9.0   \n",
       "1  25-07-22  01-190722  Jerico  Dos mil  Tradicional   Lavado             3.0   \n",
       "2  25-07-22  01-190722  Jerico  Dos mil  Tradicional   Lavado             9.0   \n",
       "\n",
       "       MERMA  PESO_EN_TOSTADO     PERFIL TEMPERATURA_INI_FIN TIEMPO_TUESTE  \\\n",
       "0  15.000000             7.65  Filtrado            175°/191°      08:01:00   \n",
       "1  16.666667             2.50  Espressso           175°/195°      08:42:00   \n",
       "2  16.444444             7.52  Filtrado            175°/190°      07:58:00   \n",
       "\n",
       "  OBSERVACIONES TOSTADOR DENOMINACION  \n",
       "0           NaN      LFQ           01  \n",
       "1           NaN      LFQ           01  \n",
       "2           NaN      LFQ           01  "
      ]
     },
     "execution_count": 300,
     "metadata": {},
     "output_type": "execute_result"
    }
   ],
   "source": [
    "df_tt.head(3)"
   ]
  },
  {
   "cell_type": "code",
   "execution_count": 301,
   "id": "5df84d70",
   "metadata": {},
   "outputs": [],
   "source": [
    "df_tt_resumen_lote = df_tt.groupby(['LOTE','DENOMINACION']).agg({\n",
    "    'ORIGEN': 'first',\n",
    "    'VARIEDAD': 'first',\n",
    "    'PESO_EN_VERDE': 'sum',\n",
    "    'PESO_EN_TOSTADO': 'sum'\n",
    "}).reset_index(\n",
    ")\n",
    "\n",
    "df_tt_resumen_origen = df_tt.groupby(['DENOMINACION']).agg({\n",
    "    'ORIGEN': 'first',\n",
    "    'VARIEDAD': 'first',\n",
    "    'PESO_EN_VERDE': 'sum',\n",
    "    'PESO_EN_TOSTADO': 'sum'\n",
    "}).reset_index(\n",
    ")"
   ]
  },
  {
   "cell_type": "code",
   "execution_count": 302,
   "id": "ae8bda74",
   "metadata": {},
   "outputs": [],
   "source": [
    "df_tt_resumen_lote['MERMA'] = (df_tt_resumen_lote['PESO_EN_VERDE'] \n",
    "                               - df_tt_resumen_lote['PESO_EN_TOSTADO']\n",
    "                               )/ df_tt_resumen_lote['PESO_EN_VERDE']\n",
    "\n",
    "df_tt_resumen_origen['MERMA'] = (df_tt_resumen_origen['PESO_EN_VERDE'] \n",
    "                                 - df_tt_resumen_origen['PESO_EN_TOSTADO']\n",
    "                                 )/ df_tt_resumen_origen['PESO_EN_VERDE']"
   ]
  },
  {
   "cell_type": "code",
   "execution_count": 303,
   "id": "8c01f2d3",
   "metadata": {},
   "outputs": [
    {
     "data": {
      "text/html": [
       "<div>\n",
       "<style scoped>\n",
       "    .dataframe tbody tr th:only-of-type {\n",
       "        vertical-align: middle;\n",
       "    }\n",
       "\n",
       "    .dataframe tbody tr th {\n",
       "        vertical-align: top;\n",
       "    }\n",
       "\n",
       "    .dataframe thead th {\n",
       "        text-align: right;\n",
       "    }\n",
       "</style>\n",
       "<table border=\"1\" class=\"dataframe\">\n",
       "  <thead>\n",
       "    <tr style=\"text-align: right;\">\n",
       "      <th></th>\n",
       "      <th>LOTE</th>\n",
       "      <th>DENOMINACION</th>\n",
       "      <th>HUMEDAD</th>\n",
       "      <th>MALLAS</th>\n",
       "      <th>PUNTAJE</th>\n",
       "      <th>ORIGEN</th>\n",
       "      <th>VARIEDAD</th>\n",
       "      <th>MERMA</th>\n",
       "    </tr>\n",
       "  </thead>\n",
       "  <tbody>\n",
       "    <tr>\n",
       "      <th>0</th>\n",
       "      <td>01-190722</td>\n",
       "      <td>01</td>\n",
       "      <td>10.9</td>\n",
       "      <td>14</td>\n",
       "      <td>84.0</td>\n",
       "      <td>Jerico</td>\n",
       "      <td>Dos mil</td>\n",
       "      <td>0.171277</td>\n",
       "    </tr>\n",
       "    <tr>\n",
       "      <th>1</th>\n",
       "      <td>09-190722</td>\n",
       "      <td>09</td>\n",
       "      <td>10.2</td>\n",
       "      <td>14</td>\n",
       "      <td>85.0</td>\n",
       "      <td>Ciudad Bolivar</td>\n",
       "      <td>Tabi</td>\n",
       "      <td>0.170355</td>\n",
       "    </tr>\n",
       "    <tr>\n",
       "      <th>2</th>\n",
       "      <td>10-190722</td>\n",
       "      <td>10</td>\n",
       "      <td>10.7</td>\n",
       "      <td>14</td>\n",
       "      <td>84.5</td>\n",
       "      <td>Jerico</td>\n",
       "      <td>Caturra</td>\n",
       "      <td>0.169200</td>\n",
       "    </tr>\n",
       "  </tbody>\n",
       "</table>\n",
       "</div>"
      ],
      "text/plain": [
       "        LOTE DENOMINACION  HUMEDAD MALLAS  PUNTAJE          ORIGEN VARIEDAD  \\\n",
       "0  01-190722           01     10.9     14     84.0          Jerico  Dos mil   \n",
       "1  09-190722           09     10.2     14     85.0  Ciudad Bolivar     Tabi   \n",
       "2  10-190722           10     10.7     14     84.5          Jerico  Caturra   \n",
       "\n",
       "      MERMA  \n",
       "0  0.171277  \n",
       "1  0.170355  \n",
       "2  0.169200  "
      ]
     },
     "execution_count": 303,
     "metadata": {},
     "output_type": "execute_result"
    }
   ],
   "source": [
    "# Se agregan las columnas 'VARIEDAD' y 'MERMA' al DataFrame df_cc \n",
    "df_var_lote = df_cc.merge(df_tt_resumen_lote,\n",
    "                    on='LOTE', how='left', suffixes=('', '_')\n",
    "                    )[['LOTE', 'DENOMINACION', 'ORIGEN',  'VARIEDAD', 'MERMA']]\n",
    "\n",
    "df_var_origen = df_cc.merge(df_tt_resumen_origen,\n",
    "                    on='DENOMINACION', how='left', suffixes=('', '_')\n",
    "                    )[['LOTE', 'DENOMINACION', 'ORIGEN', 'VARIEDAD', 'MERMA']]\n",
    "\n",
    "# Se rellena los valores nulos de 'ORIGEN', 'VARIEDAD' y 'MERMA' con los valores de df_tt_resumen_origen\n",
    "df_cc['ORIGEN'] = df_var_lote['ORIGEN'].fillna(df_var_origen['ORIGEN'])\n",
    "df_cc['VARIEDAD'] = df_var_lote['VARIEDAD'].fillna(df_var_origen['VARIEDAD'])\n",
    "df_cc['MERMA'] = df_var_lote['MERMA'].fillna(df_var_origen['MERMA'])\n",
    "\n",
    "df_cc.head(3)"
   ]
  },
  {
   "cell_type": "markdown",
   "id": "acd1c21e",
   "metadata": {},
   "source": [
    "# Modelamiento"
   ]
  },
  {
   "cell_type": "markdown",
   "id": "9e4dda8f",
   "metadata": {},
   "source": [
    "### Definición del set de datos a utilizar"
   ]
  },
  {
   "cell_type": "code",
   "execution_count": 304,
   "id": "37db8478",
   "metadata": {},
   "outputs": [
    {
     "data": {
      "text/html": [
       "<div>\n",
       "<style scoped>\n",
       "    .dataframe tbody tr th:only-of-type {\n",
       "        vertical-align: middle;\n",
       "    }\n",
       "\n",
       "    .dataframe tbody tr th {\n",
       "        vertical-align: top;\n",
       "    }\n",
       "\n",
       "    .dataframe thead th {\n",
       "        text-align: right;\n",
       "    }\n",
       "</style>\n",
       "<table border=\"1\" class=\"dataframe\">\n",
       "  <thead>\n",
       "    <tr style=\"text-align: right;\">\n",
       "      <th></th>\n",
       "      <th>ORIGEN</th>\n",
       "      <th>VARIEDAD</th>\n",
       "      <th>HUMEDAD</th>\n",
       "      <th>MALLAS</th>\n",
       "      <th>MERMA</th>\n",
       "      <th>PUNTAJE</th>\n",
       "    </tr>\n",
       "  </thead>\n",
       "  <tbody>\n",
       "    <tr>\n",
       "      <th>0</th>\n",
       "      <td>Jerico</td>\n",
       "      <td>Dos mil</td>\n",
       "      <td>10.9</td>\n",
       "      <td>14</td>\n",
       "      <td>0.171277</td>\n",
       "      <td>84.0</td>\n",
       "    </tr>\n",
       "    <tr>\n",
       "      <th>1</th>\n",
       "      <td>Ciudad Bolivar</td>\n",
       "      <td>Tabi</td>\n",
       "      <td>10.2</td>\n",
       "      <td>14</td>\n",
       "      <td>0.170355</td>\n",
       "      <td>85.0</td>\n",
       "    </tr>\n",
       "    <tr>\n",
       "      <th>2</th>\n",
       "      <td>Jerico</td>\n",
       "      <td>Caturra</td>\n",
       "      <td>10.7</td>\n",
       "      <td>14</td>\n",
       "      <td>0.169200</td>\n",
       "      <td>84.5</td>\n",
       "    </tr>\n",
       "  </tbody>\n",
       "</table>\n",
       "</div>"
      ],
      "text/plain": [
       "           ORIGEN VARIEDAD  HUMEDAD MALLAS     MERMA  PUNTAJE\n",
       "0          Jerico  Dos mil     10.9     14  0.171277     84.0\n",
       "1  Ciudad Bolivar     Tabi     10.2     14  0.170355     85.0\n",
       "2          Jerico  Caturra     10.7     14  0.169200     84.5"
      ]
     },
     "execution_count": 304,
     "metadata": {},
     "output_type": "execute_result"
    }
   ],
   "source": [
    "# Set de datos final\n",
    "model_columns = ['ORIGEN', 'VARIEDAD', 'HUMEDAD', 'MALLAS', 'MERMA', 'PUNTAJE']\n",
    "\n",
    "dataset = df_cc[model_columns].copy()\n",
    "\n",
    "dataset.head(3)"
   ]
  },
  {
   "cell_type": "markdown",
   "id": "c603bbae",
   "metadata": {},
   "source": [
    "### Definición del preprocesamiento"
   ]
  },
  {
   "cell_type": "code",
   "execution_count": 305,
   "id": "cb637509",
   "metadata": {},
   "outputs": [],
   "source": [
    "# (I) Preprocesamiento\n",
    "cat_features = ['ORIGEN', 'VARIEDAD']\n",
    "num_features = ['HUMEDAD', 'MALLAS', 'MERMA']\n",
    "\n",
    "X = dataset.drop('PUNTAJE', axis=1)\n",
    "y = dataset['PUNTAJE']\n",
    "\n",
    "preprocessor = ColumnTransformer([\n",
    "    ('num', StandardScaler(), num_features),\n",
    "    ('cat', OneHotEncoder(handle_unknown='ignore'), cat_features)\n",
    "])\n",
    "\n",
    "# (II) División train/test\n",
    "X_train, X_test, y_train, y_test = train_test_split(\n",
    "    X, y, test_size=0.2, random_state=42\n",
    ")\n",
    "\n",
    "# (III) Modelos y búsqueda de hiperparámetros\n",
    "def evaluar_modelo(modelo, X_test, y_test):\n",
    "    y_pred = modelo.predict(X_test)\n",
    "    return {\n",
    "        'rmse': root_mean_squared_error(y_test, y_pred),\n",
    "        'mae': mean_absolute_error(y_test, y_pred),\n",
    "        'r2': r2_score(y_test, y_pred)\n",
    "    }\n",
    "\n",
    "# Diccionario para almacenar resultados\n",
    "resultados = {}"
   ]
  },
  {
   "cell_type": "markdown",
   "id": "99a115fb",
   "metadata": {},
   "source": [
    "### Entrenamiento de modelos y evaluación de métricas"
   ]
  },
  {
   "cell_type": "code",
   "execution_count": 306,
   "id": "aca88874",
   "metadata": {},
   "outputs": [
    {
     "name": "stdout",
     "output_type": "stream",
     "text": [
      "Métricas de accuracy en train y test:\n"
     ]
    },
    {
     "data": {
      "text/html": [
       "<div>\n",
       "<style scoped>\n",
       "    .dataframe tbody tr th:only-of-type {\n",
       "        vertical-align: middle;\n",
       "    }\n",
       "\n",
       "    .dataframe tbody tr th {\n",
       "        vertical-align: top;\n",
       "    }\n",
       "\n",
       "    .dataframe thead th {\n",
       "        text-align: right;\n",
       "    }\n",
       "</style>\n",
       "<table border=\"1\" class=\"dataframe\">\n",
       "  <thead>\n",
       "    <tr style=\"text-align: right;\">\n",
       "      <th></th>\n",
       "      <th>rmse_train</th>\n",
       "      <th>rmse_test</th>\n",
       "      <th>mae_train</th>\n",
       "      <th>mae_test</th>\n",
       "      <th>r2_train</th>\n",
       "      <th>r2_test</th>\n",
       "    </tr>\n",
       "  </thead>\n",
       "  <tbody>\n",
       "    <tr>\n",
       "      <th>LinearRegression</th>\n",
       "      <td>0.344849</td>\n",
       "      <td>0.415868</td>\n",
       "      <td>0.247811</td>\n",
       "      <td>0.286086</td>\n",
       "      <td>0.939563</td>\n",
       "      <td>0.926096</td>\n",
       "    </tr>\n",
       "    <tr>\n",
       "      <th>DecisionTree</th>\n",
       "      <td>0.0</td>\n",
       "      <td>0.449868</td>\n",
       "      <td>0.0</td>\n",
       "      <td>0.214286</td>\n",
       "      <td>1.0</td>\n",
       "      <td>0.913517</td>\n",
       "    </tr>\n",
       "    <tr>\n",
       "      <th>RandomForest</th>\n",
       "      <td>0.237408</td>\n",
       "      <td>0.466673</td>\n",
       "      <td>0.1375</td>\n",
       "      <td>0.305238</td>\n",
       "      <td>0.971356</td>\n",
       "      <td>0.906936</td>\n",
       "    </tr>\n",
       "    <tr>\n",
       "      <th>XGBoost</th>\n",
       "      <td>0.051611</td>\n",
       "      <td>0.389791</td>\n",
       "      <td>0.032307</td>\n",
       "      <td>0.276977</td>\n",
       "      <td>0.998646</td>\n",
       "      <td>0.935074</td>\n",
       "    </tr>\n",
       "  </tbody>\n",
       "</table>\n",
       "</div>"
      ],
      "text/plain": [
       "                 rmse_train rmse_test mae_train  mae_test  r2_train   r2_test\n",
       "LinearRegression   0.344849  0.415868  0.247811  0.286086  0.939563  0.926096\n",
       "DecisionTree            0.0  0.449868       0.0  0.214286       1.0  0.913517\n",
       "RandomForest       0.237408  0.466673    0.1375  0.305238  0.971356  0.906936\n",
       "XGBoost            0.051611  0.389791  0.032307  0.276977  0.998646  0.935074"
      ]
     },
     "metadata": {},
     "output_type": "display_data"
    }
   ],
   "source": [
    "# Función para evaluar en train y test\n",
    "def evaluar_modelo_completo(modelo, X_train, y_train, X_test, y_test):\n",
    "    y_pred_train = modelo.predict(X_train)\n",
    "    y_pred_test = modelo.predict(X_test)\n",
    "    return {\n",
    "        'rmse_train': root_mean_squared_error(y_train, y_pred_train),\n",
    "        'mae_train': mean_absolute_error(y_train, y_pred_train),\n",
    "        'r2_train': r2_score(y_train, y_pred_train),\n",
    "        'rmse_test': root_mean_squared_error(y_test, y_pred_test),\n",
    "        'mae_test': mean_absolute_error(y_test, y_pred_test),\n",
    "        'r2_test': r2_score(y_test, y_pred_test),\n",
    "        'modelo': modelo\n",
    "    }\n",
    "\n",
    "# 1. Regresión Lineal\n",
    "pipe_lr = Pipeline([\n",
    "    ('pre', preprocessor),\n",
    "    ('reg', LinearRegression())\n",
    "])\n",
    "pipe_lr.fit(X_train, y_train)\n",
    "resultados['LinearRegression'] = evaluar_modelo_completo(pipe_lr, X_train, y_train, X_test, y_test)\n",
    "\n",
    "# 2. Árbol de Decisión\n",
    "param_dt = {'reg__max_depth': [3, 5, 10, None]}\n",
    "pipe_dt = Pipeline([\n",
    "    ('pre', preprocessor),\n",
    "    ('reg', DecisionTreeRegressor(random_state=42))\n",
    "])\n",
    "gs_dt = GridSearchCV(pipe_dt, param_dt, cv=5, scoring='neg_root_mean_squared_error')\n",
    "gs_dt.fit(X_train, y_train)\n",
    "resultados['DecisionTree'] = evaluar_modelo_completo(gs_dt.best_estimator_, X_train, y_train, X_test, y_test)\n",
    "\n",
    "# 3. Random Forest\n",
    "param_rf = {'reg__n_estimators': [50, 100], 'reg__max_depth': [3, 5, 10, None]}\n",
    "pipe_rf = Pipeline([\n",
    "    ('pre', preprocessor),\n",
    "    ('reg', RandomForestRegressor(random_state=42))\n",
    "])\n",
    "gs_rf = GridSearchCV(pipe_rf, param_rf, cv=5, scoring='neg_root_mean_squared_error')\n",
    "gs_rf.fit(X_train, y_train)\n",
    "resultados['RandomForest'] = evaluar_modelo_completo(gs_rf.best_estimator_, X_train, y_train, X_test, y_test)\n",
    "\n",
    "# 4. XGBoost\n",
    "param_xgb = {'reg__n_estimators': [50, 100], 'reg__max_depth': [3, 5, 10]}\n",
    "pipe_xgb = Pipeline([\n",
    "    ('pre', preprocessor),\n",
    "    ('reg', xgb.XGBRegressor(random_state=42, objective='reg:squarederror'))\n",
    "])\n",
    "gs_xgb = GridSearchCV(pipe_xgb, param_xgb, cv=5, scoring='neg_root_mean_squared_error')\n",
    "gs_xgb.fit(X_train, y_train)\n",
    "resultados['XGBoost'] = evaluar_modelo_completo(gs_xgb.best_estimator_, X_train, y_train, X_test, y_test)\n",
    "\n",
    "# Mostrar resultados en DataFrame\n",
    "metricas = pd.DataFrame(resultados).T[['rmse_train','rmse_test','mae_train','mae_test','r2_train','r2_test']]\n",
    "print('Métricas de accuracy en train y test:')\n",
    "display(metricas)"
   ]
  },
  {
   "cell_type": "markdown",
   "id": "ae0e0886",
   "metadata": {},
   "source": [
    "### Elección del mejor modelo"
   ]
  },
  {
   "cell_type": "code",
   "execution_count": 308,
   "id": "98d9ec23",
   "metadata": {},
   "outputs": [
    {
     "name": "stdout",
     "output_type": "stream",
     "text": [
      "Resultados de los modelos:\n",
      "LinearRegression: RMSE=0.416, MAE=0.286, R2=0.926\n",
      "DecisionTree: RMSE=0.450, MAE=0.214, R2=0.914\n",
      "RandomForest: RMSE=0.467, MAE=0.305, R2=0.907\n",
      "XGBoost: RMSE=0.390, MAE=0.277, R2=0.935\n",
      "\n",
      "Mejor modelo: XGBoost\n"
     ]
    }
   ],
   "source": [
    "# (III) Elección del mejor modelo\n",
    "print('Resultados de los modelos:')\n",
    "for nombre, res in resultados.items():\n",
    "    print(f\"{nombre}: RMSE={res['rmse_test']:.3f}, MAE={res['mae_test']:.3f}, R2={res['r2_test']:.3f}\")\n",
    "\n",
    "mejor_modelo_nombre = min(resultados, key=lambda k: resultados[k]['rmse_test'])\n",
    "mejor_modelo = resultados[mejor_modelo_nombre]['modelo']\n",
    "print(f\"\\nMejor modelo: {mejor_modelo_nombre}\")"
   ]
  },
  {
   "cell_type": "markdown",
   "id": "de5f2226",
   "metadata": {},
   "source": [
    "### Explicabilidad con SHAP (solo para modelos de árbol)"
   ]
  },
  {
   "cell_type": "code",
   "execution_count": 309,
   "id": "0bd0202e",
   "metadata": {},
   "outputs": [
    {
     "data": {
      "image/png": "[encoded data removed]",
      "text/plain": [
       "<Figure size 800x950 with 2 Axes>"
      ]
     },
     "metadata": {},
     "output_type": "display_data"
    }
   ],
   "source": [
    "# (IV) Explicabilidad con SHAP (solo para modelos de árbol)\n",
    "if mejor_modelo_nombre in ['RandomForest', 'XGBoost']:\n",
    "    # Extraer el modelo y los datos procesados\n",
    "    X_test_proc = preprocessor.transform(X_test)\n",
    "    explainer = shap.Explainer(mejor_modelo.named_steps['reg'])\n",
    "    shap_values = explainer(X_test_proc)\n",
    "    plt.figure(figsize=(10,6))\n",
    "    shap.summary_plot(shap_values, X_test_proc, feature_names=preprocessor.get_feature_names_out(), show=False)\n",
    "    plt.title(f\"Importancia de variables según SHAP para {mejor_modelo_nombre}\")\n",
    "    plt.show()\n",
    "else:\n",
    "    print(\"Explicabilidad SHAP solo implementada para modelos de árbol.\")"
   ]
  },
  {
   "cell_type": "markdown",
   "id": "4043e64f",
   "metadata": {},
   "source": [
    "## Análisis de resultados y conclusiones\n",
    "\n",
    "Tras implementar y comparar varios modelos de regresión (Regresión Lineal, Árbol de Decisión, Random Forest y XGBoost) para predecir el puntaje de calidad del café, se obtuvieron las siguientes observaciones:\n",
    "\n",
    "**1. Desempeño de los modelos:**\n",
    "- Se evaluaron las métricas RMSE, MAE y R² tanto en el conjunto de entrenamiento como en el de prueba para cada modelo. Siendo que el modelo con menor RMSE en test es considerado el mejor para la tarea, ya que indica menor error promedio en la predicción del puntaje, y aún cuando todos los modelos arrojan resultados similares, se elige el modelo XGBoost al tener un mejor rendimiento en esa métrica al evaluarlo con el set de pruebas.\n",
    "- Se observan diferencia en rendimiento en las métricas de prueba frente al set de datos de entrenamiento y test, lo que podría dar indicios de sobreajuste en algunos modelos. El caso más significativo es el del Árbol de Decisión que en la métrica de R² dio 1, siendo el de mejor resultado, pero frente a observaciones nuevas (test) su rendimiento bajó considerablemente.\n",
    "\n",
    "**2. Importancia de variables:**\n",
    "- En el análisis de explicabilidad (SHAP), que muestra qué variables influyen más en la predicción del puntaje, se observa una alta relevancia en variedades y origenes específicos, además de la humedad y la merma que suelen ser relevantes en la calidad del café. En el caso de la denominación de origen, podría ser más significativo para el modelamiento llevarlo no como un categórico, sino extrapolarlo a otras variables como la altura sobre el nivel del mar.\n",
    "\n",
    "**3. Conclusiones:**\n",
    "- Si bien el rendimiento entre los modelos implementados no es muy dispar, el modelo seleccionado (según RMSE test) es el más adecuado para predecir el puntaje de taza con los datos y variables disponibles. Esto debe ser reevaluado en contextos con un mayor volúmen de datos, considerando no solo el rendimiento, sino su demanda de recursos.\n",
    "- El pipeline implementado permite comparar fácilmente nuevos modelos y ajustar hiperparámetros para futuras mejoras.\n",
    "- Se recomienda seguir recolectando datos y explorar nuevas variables para aumentar la robustez y generalización del modelo. En ello se podría incluir la variable de altura sobre nivel del mar ya sugerida o incluso hacer una exploración de la información dada en el campo 'NOTAS', de la que se podrían extraer las variables de sabor, cuerpo y acidez.\n",
    "\n",
    "**En resumen:** El proceso permitió identificar el mejor modelo predictivo para el puntaje de café, entender el aporte de cada variable y sentar las bases para un sistema de control de calidad basado en datos."
   ]
  }
 ],
 "metadata": {
  "kernelspec": {
   "display_name": "Python 3",
   "language": "python",
   "name": "python3"
  },
  "language_info": {
   "codemirror_mode": {
    "name": "ipython",
    "version": 3
   },
   "file_extension": ".py",
   "mimetype": "text/x-python",
   "name": "python",
   "nbconvert_exporter": "python",
   "pygments_lexer": "ipython3",
   "version": "3.12.10"
  }
 },
 "nbformat": 4,
 "nbformat_minor": 5
}
